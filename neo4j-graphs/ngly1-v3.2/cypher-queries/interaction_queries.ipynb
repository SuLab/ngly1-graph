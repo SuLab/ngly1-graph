{
 "cells": [
  {
   "cell_type": "markdown",
   "metadata": {},
   "source": [
    "# Cypher Queries for Determining Interaction Paths\n",
    "*Núria Queralt Rosinach, Andrew Su*\n",
    "\n",
    "**Freeze Lab meeting, October 2018**\n",
    "\n",
    "## Overview\n",
    "We will compare results using both reviews:\n",
    "* NGLY1 - AQP1 **regulatory review** (*NGLY1 v3.1*)\n",
    "* NGLY1 - AQP1 **animal model review** (*NGLY1 v2.1*)\n",
    "\n",
    "\n",
    "## Servers \n",
    "* regulatory review:\n",
    "    * Local: bolt://avalanche.scripps.edu:7689\n",
    "    * AWS: bolt://52.87.232.110:7689\n",
    "    \n",
    "    \n",
    "* animal model review:\n",
    "    * Local: bolt://avalanche.scripps.edu:7689\n",
    "    * AWS: bolt://52.87.232.110:7689"
   ]
  },
  {
   "cell_type": "markdown",
   "metadata": {},
   "source": [
    "### Imports"
   ]
  },
  {
   "cell_type": "code",
   "execution_count": 1,
   "metadata": {},
   "outputs": [],
   "source": [
    "from neo4j.v1 import GraphDatabase, basic_auth\n",
    "import pandas as pd\n",
    "pd.set_option('display.max_columns', None)  # or 1000\n",
    "pd.set_option('display.max_rows', None)  # or 1000\n",
    "pd.set_option('display.max_colwidth', -1)  # or 199"
   ]
  },
  {
   "cell_type": "markdown",
   "metadata": {},
   "source": [
    "### Functions"
   ]
  },
  {
   "cell_type": "code",
   "execution_count": 2,
   "metadata": {},
   "outputs": [],
   "source": [
    "def runQuery( driver, query ):\n",
    "    '''\n",
    "    This function runs the query onto the database and returns the result.\n",
    "    in: cypher query string\n",
    "    out: neo4j query result object\n",
    "    '''\n",
    "    \n",
    "    with driver.session() as session:\n",
    "        result = session.run('' + query + '')\n",
    "        \n",
    "    return result\n",
    "\n",
    "\n",
    "def parseNode( node ):\n",
    "    '''\n",
    "    This function parses the information gathered in the node data structure object resulting after querying neo4j.\n",
    "        in: node record neo4j object\n",
    "        out: node as dict\n",
    "    '''\n",
    "    \n",
    "    n = dict()\n",
    "    n[\"idx\"] = int(node.id)\n",
    "    n[\"type\"] = list(node.labels)[0]\n",
    "    n[\"id\"] = str(node.properties['id'])\n",
    "    n[\"preflabel\"] = str(node.properties['preflabel'])\n",
    "    n[\"name\"] = str(node.properties['name'])\n",
    "    n[\"description\"] = str(node.properties['description'])\n",
    "\n",
    "    return n\n",
    "\n",
    "\n",
    "def parsePath( path ):\n",
    "    '''\n",
    "    This function parsers the information gathered in the path data structure object resulting after querying neo4j.\n",
    "        in: path record neo4j object\n",
    "        out: path as dict\n",
    "    '''\n",
    "    \n",
    "    out = {}\n",
    "    out['Nodes'] = []\n",
    "    for node in path['path'].nodes:\n",
    "        n = {}\n",
    "        n['idx'] = int(node.id)\n",
    "        n['type'] = list(node.labels)[0]\n",
    "        n['id'] = str(node.properties['id'])\n",
    "        n['preflabel'] = str(node.properties['preflabel'])\n",
    "        n['name'] = str(node.properties['name'])\n",
    "        n['description'] = str(node.properties['description'])\n",
    "        out['Nodes'].append(n)\n",
    "    out['Edges'] = []\n",
    "    for edge in path['path'].relationships:\n",
    "        e = {}\n",
    "        e['idx'] = int(edge.id)\n",
    "        e['start_node'] = int(edge.start)\n",
    "        e['end_node'] = int(edge.end)\n",
    "        e['type'] = str(edge.type)\n",
    "        e['property_label'] = str(edge.properties['property_label'])\n",
    "        e['property_uri'] = str(edge.properties['property_uri'])\n",
    "        e['reference_uri'] = str(edge.properties['reference_uri'])\n",
    "        e['reference_date'] = str(edge.properties['reference_date'])\n",
    "        e['reference_supporting_text'] = str(edge.properties['reference_supporting_text'])\n",
    "        out['Edges'].append(e)\n",
    "        \n",
    "    return out"
   ]
  },
  {
   "cell_type": "markdown",
   "metadata": {},
   "source": [
    "### Initialize neo4j"
   ]
  },
  {
   "cell_type": "code",
   "execution_count": 3,
   "metadata": {},
   "outputs": [],
   "source": [
    "driverV2 = GraphDatabase.driver(\"bolt://kylo.scripps.edu:7688\", auth=basic_auth(\"neo4j\", \"xena\"))\n",
    "driverV3 = GraphDatabase.driver(\"bolt://kylo.scripps.edu:7689\", auth=basic_auth(\"neo4j\", \"xena\"))"
   ]
  },
  {
   "cell_type": "markdown",
   "metadata": {},
   "source": [
    "### Example query"
   ]
  },
  {
   "cell_type": "code",
   "execution_count": 4,
   "metadata": {
    "scrolled": true
   },
   "outputs": [
    {
     "name": "stdout",
     "output_type": "stream",
     "text": [
      "Node 0:\n",
      "\tID: HGNC:17646,\n",
      "\tpreflabel: NGLY1,\n",
      "\tname: N-glycanase 1,\n",
      "\tdescription: gene of the species Homo sapiens\n",
      "\n",
      "Node 1:\n",
      "\tID: NCBIGene:460233,\n",
      "\tpreflabel: NGLY1,\n",
      "\tname: N-glycanase 1,\n",
      "\tdescription: This gene encodes an enzyme that catalyzes hydrolysis of an N(4)-(acetyl-beta-D-glucosaminyl) asparagine residue to N-acetyl-beta-D-glucosaminylamine and a peptide containing an aspartate residue. The encoded enzyme may play a role in the proteasome-mediated degradation of misfolded glycoproteins. Multiple transcript variants encoding different isoforms have been found for this gene.[provided by RefSeq, Feb 2009].\n",
      "\n",
      "Node 2:\n",
      "\tID: NCBIGene:100522951,\n",
      "\tpreflabel: NGLY1,\n",
      "\tname: N-glycanase 1,\n",
      "\tdescription: This gene encodes an enzyme that catalyzes hydrolysis of an N(4)-(acetyl-beta-D-glucosaminyl) asparagine residue to N-acetyl-beta-D-glucosaminylamine and a peptide containing an aspartate residue. The encoded enzyme may play a role in the proteasome-mediated degradation of misfolded glycoproteins. Multiple transcript variants encoding different isoforms have been found for this gene.[provided by RefSeq, Feb 2009].\n",
      "\n",
      "Node 3:\n",
      "\tID: NCBIGene:100031666,\n",
      "\tpreflabel: NGLY1,\n",
      "\tname: N-glycanase 1,\n",
      "\tdescription: This gene encodes an enzyme that catalyzes hydrolysis of an N(4)-(acetyl-beta-D-glucosaminyl) asparagine residue to N-acetyl-beta-D-glucosaminylamine and a peptide containing an aspartate residue. The encoded enzyme may play a role in the proteasome-mediated degradation of misfolded glycoproteins. Multiple transcript variants encoding different isoforms have been found for this gene.[provided by RefSeq, Feb 2009].\n",
      "\n",
      "Node 4:\n",
      "\tID: NCBIGene:533736,\n",
      "\tpreflabel: NGLY1,\n",
      "\tname: N-glycanase 1,\n",
      "\tdescription: This gene encodes an enzyme that catalyzes hydrolysis of an N(4)-(acetyl-beta-D-glucosaminyl) asparagine residue to N-acetyl-beta-D-glucosaminylamine and a peptide containing an aspartate residue. The encoded enzyme may play a role in the proteasome-mediated degradation of misfolded glycoproteins. Multiple transcript variants encoding different isoforms have been found for this gene.[provided by RefSeq, Feb 2009].\n",
      "\n",
      "Node 5:\n",
      "\tID: NCBIGene:100059456,\n",
      "\tpreflabel: NGLY1,\n",
      "\tname: N-glycanase 1,\n",
      "\tdescription: This gene encodes an enzyme that catalyzes hydrolysis of an N(4)-(acetyl-beta-D-glucosaminyl) asparagine residue to N-acetyl-beta-D-glucosaminylamine and a peptide containing an aspartate residue. The encoded enzyme may play a role in the proteasome-mediated degradation of misfolded glycoproteins. Multiple transcript variants encoding different isoforms have been found for this gene.[provided by RefSeq, Feb 2009].\n",
      "\n",
      "Node 6:\n",
      "\tID: NCBIGene:700842,\n",
      "\tpreflabel: NGLY1,\n",
      "\tname: N-glycanase 1,\n",
      "\tdescription: This gene encodes an enzyme that catalyzes hydrolysis of an N(4)-(acetyl-beta-D-glucosaminyl) asparagine residue to N-acetyl-beta-D-glucosaminylamine and a peptide containing an aspartate residue. The encoded enzyme may play a role in the proteasome-mediated degradation of misfolded glycoproteins. Multiple transcript variants encoding different isoforms have been found for this gene.[provided by RefSeq, Feb 2009].\n",
      "\n"
     ]
    }
   ],
   "source": [
    "# run query\n",
    "with driverV3.session() as session:\n",
    "    result = session.run(\"match (n:GENE) where n.preflabel =~ 'NGLY1' return n\")\n",
    "    \n",
    "# parse the query results\n",
    "out_l = list() \n",
    "for record in result:\n",
    "    n = parseNode(record['n'])\n",
    "    out_l.append(n)\n",
    "    \n",
    "# print results    \n",
    "for i, node in enumerate(out_l):\n",
    "    print('Node {}:\\n\\tID: {},\\n\\tpreflabel: {},\\n\\tname: {},\\n\\tdescription: {}\\n'.format(i,node.get('id'),node.get('preflabel'),node.get('name'),node.get('description')))"
   ]
  },
  {
   "cell_type": "markdown",
   "metadata": {},
   "source": [
    "---\n",
    "## RESEARCH QUESTION\n",
    "\n",
    "** \"Is EGFR and AQP1 connected to each other through physical interactors and if yes, what are those interactors?\" **\n",
    "\n",
    "### MITALI email\n",
    "\n",
    "Hi Nuria,\n",
    "\n",
    "\n",
    "I checked the effect of EGFR inhibitors on AQP1 expression in WT and NGLY1 knock out mouse fibroblasts. EGFR inhibition does not have affect AQP1 expression in WT cells, but AQP1 expression is reduced by half in NGLY1 KO cells (both protein and mRNA levels). This could be interesting because it suggests that EGFR pathway although not directly involved in AQP1 regulation, its downstream component might be involved in AQP1 regulation in NGLY1 KO cells. \n",
    "\n",
    "\n",
    "I know at the rare disease day meeting you had made pathways with AQP1 and EGFR query based on phenotype. I was wondering if you could generate pathways based on interactions rather than phenotype for AQP1 and EGFR. For example....EGFR interacts with gene/ protein A ...which might interact with B which has an interaction with AQP1. This is just an example. Is it doable? \n",
    "\n",
    "\n",
    "Also, I had talked to you about processing transcriptome data from NGLY1 deficient human fibroblasts. I am attaching that file in this email which lists all the genes up/downregulated in NGLY1 KO cells compared to controls. Interestingly AQP1 is significantly reduced in this dataset. Will it be possible to make pathways based on transcription factors? For example cluster down/ up regulated genes in the dataset which might have the same transcription factors?  Please let me know if you have any questions. If you want to talk about this in person, I can stop by your office anytime this week (not today) or vice versa.\n",
    "\n",
    "\n",
    "Thanks a lot!\n",
    "\n",
    "\n",
    "Best,\n",
    "\n",
    "Mitali.\n",
    "\n",
    "\n",
    "### IDs\n",
    "- EGFR: 'HGNC:3236',   'MGI:95294'\n",
    "- AQP1: 'HGNC:633',    'MGI:103201'\n",
    "- VCP:  'HGNC:12666'\n",
    "- BMP signaling pathway:  'REACT:R-HSA-201451',  'GO:0030509',  'Pathway:WP2760'\n",
    "\n",
    "### EGFR-----AQP1 QUERY TOPOLOGIES\n",
    "#### 1. EGFR--gene--gene--gene--AQP1:  via gene interactions\n",
    "#### 2. NGLY1--TF--EGFR/VCP--BMP--TF--AQP1: via regulatory interactions\n",
    "---"
   ]
  },
  {
   "cell_type": "markdown",
   "metadata": {},
   "source": [
    "## QUERIES REVIEW V3\n",
    "\n",
    "### Round 1: EXPLORATORY QUERIES\n",
    "### EGFR-----AQP1 via gene interactions\n",
    "#### 1. EGFR--gene--gene--gene--AQP1"
   ]
  },
  {
   "cell_type": "markdown",
   "metadata": {},
   "source": [
    "* **Query 1: ( L = 2 ) EGFR-[interacts with]-gene-[interacts with]-AQP1 **\n",
    "    * Human"
   ]
  },
  {
   "cell_type": "code",
   "execution_count": 8,
   "metadata": {},
   "outputs": [
    {
     "name": "stdout",
     "output_type": "stream",
     "text": [
      "Total paths: 30\n",
      "CPU times: user 1.03 ms, sys: 739 µs, total: 1.77 ms\n",
      "Wall time: 82.7 ms\n"
     ]
    }
   ],
   "source": [
    "%%time\n",
    "# Query 1\n",
    "with driverV3.session() as session:\n",
    "    result = session.run(\n",
    "    \"\"\"\n",
    "    MATCH path=(source:GENE {id: 'HGNC:3236'})-[i1:`RO:0002434`]-(a:GENE)-[i2:`RO:0002434`]-(target:GENE {id: 'HGNC:633'})\n",
    "\n",
    "    WHERE ALL(x IN nodes(path) WHERE single(y IN nodes(path) WHERE y = x))\n",
    "\n",
    "    WITH path,\n",
    "\n",
    "    [n IN nodes(path) WHERE n.preflabel IN ['cytoplasm','cytosol','nucleus','metabolism','membrane','protein binding','visible','viable','phenotype']] AS nodes_marked,\n",
    "\n",
    "    [r IN relationships(path) WHERE r.property_label IN ['in paralogy relationship with','in orthology relationship with','colocalizes with']] AS edges_marked\n",
    "\n",
    "    WHERE size(nodes_marked) = 0 AND size(edges_marked) = 0\n",
    "\n",
    "    RETURN count(distinct path) as paths\n",
    "    \"\"\"\n",
    "    )\n",
    "\n",
    "# print result\n",
    "for record in result:\n",
    "    print('Total paths: {}'.format(record['paths']))"
   ]
  },
  {
   "cell_type": "markdown",
   "metadata": {},
   "source": [
    "* **Query 2: ( L = 3 ) EGFR-[interacts with]-gene--gene-[interacts with]-AQP1 **\n",
    "    * Human"
   ]
  },
  {
   "cell_type": "code",
   "execution_count": 5,
   "metadata": {},
   "outputs": [
    {
     "name": "stdout",
     "output_type": "stream",
     "text": [
      "Total paths: 9022\n",
      "CPU times: user 1.08 ms, sys: 778 µs, total: 1.85 ms\n",
      "Wall time: 4.01 s\n"
     ]
    }
   ],
   "source": [
    "%%time\n",
    "# Query 2\n",
    "with driverV3.session() as session:\n",
    "    result = session.run(\n",
    "    \"\"\"\n",
    "    MATCH path=(source:GENE {id: 'HGNC:3236'})-[i1:`RO:0002434`]-(a:GENE)-[i2]-(b:GENE)-[i3:`RO:0002434`]-(target:GENE {id: 'HGNC:633'})\n",
    "\n",
    "    WHERE ALL(x IN nodes(path) WHERE single(y IN nodes(path) WHERE y = x))\n",
    "\n",
    "    WITH path,\n",
    "\n",
    "    [n IN nodes(path) WHERE n.preflabel IN ['cytoplasm','cytosol','nucleus','metabolism','membrane','protein binding','visible','viable','phenotype']] AS nodes_marked,\n",
    "\n",
    "    [r IN relationships(path) WHERE r.property_label IN ['in paralogy relationship with','in orthology relationship with','colocalizes with']] AS edges_marked\n",
    "\n",
    "    WHERE size(nodes_marked) = 0 AND size(edges_marked) = 0\n",
    "\n",
    "    RETURN count(distinct path) as paths\n",
    "    \"\"\"\n",
    "    )\n",
    "\n",
    "# print result\n",
    "for record in result:\n",
    "    print('Total paths: {}'.format(record['paths']))"
   ]
  },
  {
   "cell_type": "markdown",
   "metadata": {},
   "source": [
    "* **Query 3: ( L = 3 ) EGFR-[interacts with]-gene--pw--AQP1 **\n",
    "    * Human"
   ]
  },
  {
   "cell_type": "code",
   "execution_count": 10,
   "metadata": {},
   "outputs": [
    {
     "name": "stdout",
     "output_type": "stream",
     "text": [
      "Total paths: 2775\n",
      "CPU times: user 1.73 ms, sys: 0 ns, total: 1.73 ms\n",
      "Wall time: 682 ms\n"
     ]
    }
   ],
   "source": [
    "%%time\n",
    "# Query 3\n",
    "with driverV3.session() as session:\n",
    "    result = session.run(\n",
    "    \"\"\"\n",
    "    MATCH path=(source:GENE {id: 'HGNC:3236'})-[i1:`RO:0002434`]-(:GENE)-[r2]-(:PHYS)-[r3]-(target:GENE {id: 'HGNC:633'})\n",
    "\n",
    "    WHERE ALL(x IN nodes(path) WHERE single(y IN nodes(path) WHERE y = x))\n",
    "\n",
    "    WITH path,\n",
    "\n",
    "    [n IN nodes(path) WHERE n.preflabel IN ['cytoplasm','cytosol','nucleus','metabolism','membrane','protein binding','visible','viable','phenotype']] AS nodes_marked,\n",
    "\n",
    "    [r IN relationships(path) WHERE r.property_label IN ['in paralogy relationship with','in orthology relationship with','colocalizes with']] AS edges_marked\n",
    "\n",
    "    WHERE size(nodes_marked) = 0 AND size(edges_marked) = 0\n",
    "\n",
    "    RETURN count(distinct path) as paths\n",
    "    \"\"\"\n",
    "    )\n",
    "\n",
    "# print result\n",
    "for record in result:\n",
    "    print('Total paths: {}'.format(record['paths']))"
   ]
  },
  {
   "cell_type": "markdown",
   "metadata": {},
   "source": [
    "### EGFR-----AQP1 via regulatory interactions\n",
    "#### 2. NGLY1--TF--EGFR/VCP--BMP--TF--AQP1"
   ]
  },
  {
   "cell_type": "markdown",
   "metadata": {},
   "source": [
    "* **Query 2: Length 4 & pattern: **\n",
    "    * ngly1-[interacts with]-gene-[interacts with]-gene--phys--aqp1\n",
    "    * without degree filters\n",
    "    * this query in graph v2 gives 0 paths"
   ]
  },
  {
   "cell_type": "code",
   "execution_count": 11,
   "metadata": {},
   "outputs": [
    {
     "name": "stdout",
     "output_type": "stream",
     "text": [
      "Total paths: 0\n",
      "CPU times: user 1.08 ms, sys: 773 µs, total: 1.85 ms\n",
      "Wall time: 92 ms\n"
     ]
    }
   ],
   "source": [
    "%%time\n",
    "# Query 2\n",
    "with driverV3.session() as session:\n",
    "    result = session.run(\n",
    "    \"\"\"\n",
    "    MATCH path=(source:GENE)-[r:`RO:0002434`]-(tf:GENE)-[:`RO:0002434`]->(g:GENE)--(:PHYS {id: 'REACT:R-HSA-201451'})--(target:GENE)\n",
    "\n",
    "    WHERE source.id = 'HGNC:17646' \n",
    "    \n",
    "    AND target.id = 'HGNC:633' \n",
    "    \n",
    "    AND ALL(x IN nodes(path) WHERE single(y IN nodes(path) WHERE y = x))\n",
    "    \n",
    "    AND toLower(r.reference_supporting_text) =~ '.*msigdb.*|.*tftargets.*'\n",
    "\n",
    "    WITH path,\n",
    "\n",
    "    [n IN nodes(path) WHERE n.preflabel IN ['cytoplasm','cytosol','nucleus','metabolism','membrane','protein binding','visible','viable','phenotype']] AS nodes_marked,\n",
    "\n",
    "    [r IN relationships(path) WHERE r.property_label IN ['in paralogy relationship with','in orthology relationship with','colocalizes with']] AS edges_marked\n",
    "\n",
    "    WHERE size(nodes_marked) = 0 AND size(edges_marked) = 0\n",
    "\n",
    "    RETURN count(distinct path) as paths\n",
    "    \"\"\"\n",
    "    )\n",
    "\n",
    "# print result\n",
    "for record in result:\n",
    "    print('Total paths: {}'.format(record['paths']))"
   ]
  },
  {
   "cell_type": "markdown",
   "metadata": {},
   "source": [
    "## QUERIES REVIEW V2\n",
    " \n",
    "### EGFR----AQP1 via ortho-phenotypes"
   ]
  },
  {
   "cell_type": "markdown",
   "metadata": {},
   "source": [
    "* **For EGFR >> AQP1: ( L = 5 ) EGFR--diso--gene-[orthology]-gene--pathway--AQP1 **\n",
    "    * Mouse"
   ]
  },
  {
   "cell_type": "code",
   "execution_count": 11,
   "metadata": {},
   "outputs": [
    {
     "name": "stdout",
     "output_type": "stream",
     "text": [
      "Total paths: 188\n",
      "CPU times: user 0 ns, sys: 0 ns, total: 0 ns\n",
      "Wall time: 4.05 s\n"
     ]
    }
   ],
   "source": [
    "%%time\n",
    "with driverV2.session() as session:\n",
    "    result = session.run(\n",
    "    \"\"\"\n",
    "    MATCH path=(source:GENE)--(ds:DISO)--(:GENE)-[:`RO:HOM0000020`]-(g1:GENE)--(pw:PHYS)--(target:GENE) \n",
    "    WHERE source.id = 'MGI:95294' \n",
    "    AND target.id = 'MGI:103201' \n",
    "    AND ALL(x IN nodes(path) WHERE single(y IN nodes(path) WHERE y = x)) \n",
    "    WITH g1, ds, pw, path, \n",
    "    size( (source)-[:`RO:HOM0000020`]-() ) AS source_ortho, \n",
    "    size( (g1)-[:`RO:HOM0000020`]-() ) AS other_ortho, \n",
    "    max(size( (pw)-[]-() )) AS pwDegree, \n",
    "    max(size( (ds)-[]-() )) AS dsDegree, \n",
    "    [n IN nodes(path) WHERE n.preflabel IN ['cytoplasm','cytosol','nucleus','metabolism','membrane','protein binding','visible','viable','phenotype']] AS nodes_marked, \n",
    "    [r IN relationships(path) WHERE r.property_label IN ['interacts with','in paralogy relationship with','in orthology relationship with','colocalizes with']] AS edges_marked \n",
    "    WHERE size(nodes_marked) = 0 AND size(edges_marked) = 0 AND pwDegree < 10 AND dsDegree < 5 \n",
    "    RETURN count( DISTINCT path) as paths\n",
    "    \"\"\"\n",
    "    )\n",
    "\n",
    "# print result\n",
    "for record in result:\n",
    "    print('Total paths: {}'.format(record['paths']))"
   ]
  },
  {
   "cell_type": "markdown",
   "metadata": {},
   "source": [
    "* **For AQP1 >> EGFR: ( L = 5 ) AQP1--diso--gene-[orthology]-gene--pathway--EGFR **\n",
    "    * Mouse"
   ]
  },
  {
   "cell_type": "code",
   "execution_count": 13,
   "metadata": {},
   "outputs": [
    {
     "name": "stdout",
     "output_type": "stream",
     "text": [
      "Total paths: 292\n",
      "CPU times: user 0 ns, sys: 0 ns, total: 0 ns\n",
      "Wall time: 424 ms\n"
     ]
    }
   ],
   "source": [
    "%%time\n",
    "with driverV2.session() as session:\n",
    "    result = session.run(\n",
    "    \"\"\"\n",
    "    MATCH path=(source:GENE)--(ds:DISO)--(:GENE)-[:`RO:HOM0000020`]-(g1:GENE)--(pw:PHYS)--(target:GENE) \n",
    "    WHERE source.id = 'MGI:103201' \n",
    "    AND target.id = 'MGI:95294' \n",
    "    AND ALL(x IN nodes(path) WHERE single(y IN nodes(path) WHERE y = x)) \n",
    "    WITH g1, ds, pw, path, \n",
    "    size( (source)-[:`RO:HOM0000020`]-() ) AS source_ortho, \n",
    "    size( (g1)-[:`RO:HOM0000020`]-() ) AS other_ortho, \n",
    "    max(size( (pw)-[]-() )) AS pwDegree, \n",
    "    max(size( (ds)-[]-() )) AS dsDegree, \n",
    "    [n IN nodes(path) WHERE n.preflabel IN ['cytoplasm','cytosol','nucleus','metabolism','membrane','protein binding','visible','viable','phenotype']] AS nodes_marked, \n",
    "    [r IN relationships(path) WHERE r.property_label IN ['interacts with','in paralogy relationship with','in orthology relationship with','colocalizes with']] AS edges_marked \n",
    "    WHERE size(nodes_marked) = 0 AND size(edges_marked) = 0 AND pwDegree < 50 AND dsDegree < 20 \n",
    "    RETURN count( DISTINCT path) as paths\n",
    "    \"\"\"\n",
    "    )\n",
    "\n",
    "# print result\n",
    "for record in result:\n",
    "    print('Total paths: {}'.format(record['paths']))"
   ]
  },
  {
   "cell_type": "markdown",
   "metadata": {},
   "source": [
    "### Round 1: EXPLORATORY QUERIES\n",
    "### EGFR-----AQP1 via gene interactions\n",
    "#### 1. EGFR--gene--gene--gene--AQP1"
   ]
  },
  {
   "cell_type": "markdown",
   "metadata": {},
   "source": [
    "* **Query 1: ( L = 3 ) EGFR-[interacts with]-gene--gene-[interacts with]-AQP1 **\n",
    "    * Human"
   ]
  },
  {
   "cell_type": "code",
   "execution_count": 14,
   "metadata": {},
   "outputs": [
    {
     "name": "stdout",
     "output_type": "stream",
     "text": [
      "Total paths: 0\n",
      "CPU times: user 0 ns, sys: 0 ns, total: 0 ns\n",
      "Wall time: 215 ms\n"
     ]
    }
   ],
   "source": [
    "%%time\n",
    "# Query 1\n",
    "with driverV2.session() as session:\n",
    "    result = session.run(\n",
    "    \"\"\"\n",
    "    MATCH path=(source:GENE {id: 'HGNC:3236'})-[i1:`RO:0002434`]-(a:GENE)-[i2]-(b:GENE)-[i3:`RO:0002434`]-(target:GENE {id: 'HGNC:633'})\n",
    "\n",
    "    WHERE ALL(x IN nodes(path) WHERE single(y IN nodes(path) WHERE y = x))\n",
    "\n",
    "    WITH path,\n",
    "\n",
    "    [n IN nodes(path) WHERE n.preflabel IN ['cytoplasm','cytosol','nucleus','metabolism','membrane','protein binding','visible','viable','phenotype']] AS nodes_marked,\n",
    "\n",
    "    [r IN relationships(path) WHERE r.property_label IN ['in paralogy relationship with','in orthology relationship with','colocalizes with']] AS edges_marked\n",
    "\n",
    "    WHERE size(nodes_marked) = 0 AND size(edges_marked) = 0\n",
    "\n",
    "    RETURN count(distinct path) as paths\n",
    "    \"\"\"\n",
    "    )\n",
    "\n",
    "# print result\n",
    "for record in result:\n",
    "    print('Total paths: {}'.format(record['paths']))"
   ]
  }
 ],
 "metadata": {
  "kernelspec": {
   "display_name": "Python 3",
   "language": "python",
   "name": "python3"
  },
  "language_info": {
   "codemirror_mode": {
    "name": "ipython",
    "version": 3
   },
   "file_extension": ".py",
   "mimetype": "text/x-python",
   "name": "python",
   "nbconvert_exporter": "python",
   "pygments_lexer": "ipython3",
   "version": "3.7.0"
  }
 },
 "nbformat": 4,
 "nbformat_minor": 2
}
